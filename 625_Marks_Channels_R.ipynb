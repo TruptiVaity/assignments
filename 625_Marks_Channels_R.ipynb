{
  "nbformat": 4,
  "nbformat_minor": 0,
  "metadata": {
    "colab": {
      "name": "625-Marks-Channels-R.ipynb",
      "provenance": [],
      "collapsed_sections": [],
      "authorship_tag": "ABX9TyP+aipv1nssWoPqdrUF6fqb",
      "include_colab_link": true
    },
    "kernelspec": {
      "name": "ir",
      "display_name": "R"
    }
  },
  "cells": [
    {
      "cell_type": "markdown",
      "metadata": {
        "id": "view-in-github",
        "colab_type": "text"
      },
      "source": [
        "<a href=\"https://colab.research.google.com/github/cs625-datavis-fall20/assignments/blob/master/625_Marks_Channels_R.ipynb\" target=\"_parent\"><img src=\"https://colab.research.google.com/assets/colab-badge.svg\" alt=\"Open In Colab\"/></a>"
      ]
    },
    {
      "cell_type": "markdown",
      "metadata": {
        "id": "QzFjNkPdOLIN",
        "colab_type": "text"
      },
      "source": [
        "# Marks and Channels in R Tutorial / CS 625, Fall 2020\n",
        "\n",
        "## R for Data Science\n",
        "\n",
        "We'll follow the [R for Data Science data visualization](https://r4ds.had.co.nz/data-visualisation.html) tutorial.  Since you've already worked through Sections 3.1-3.2 (in HW1), we'll start with [Section 3.3 (Aesthetic mappings)](https://r4ds.had.co.nz/data-visualisation.html#aesthetic-mappings).  We're just going to focus on basic marks and channels for now.\n",
        "\n",
        "References:\n",
        "* point marks - https://ggplot2.tidyverse.org/reference/geom_point.html\n",
        "* bar chart - https://ggplot2.tidyverse.org/reference/geom_bar.html\n",
        "* line mark - https://ggplot2.tidyverse.org/reference/geom_path.html\n",
        "\n",
        "There are a couple ways you can get setup for this:\n",
        "* Using RStudio - Create a new repo in GitHub for your work and open the project in RStudio (this should be similar to what you did in HW1).  Create a new file in RStudio to work through the tutorial.  \n",
        "* Using Google Colab - ave a copy of this file to your own Google Drive and make edits here."
      ]
    },
    {
      "cell_type": "markdown",
      "metadata": {
        "id": "BazqAIFoOyfe",
        "colab_type": "text"
      },
      "source": [
        "First step is to load the required packages.  For these charts, we don't need the full tidyverse set, just ggplot2.  And then we're going to select the black and white theme as default."
      ]
    },
    {
      "cell_type": "code",
      "metadata": {
        "id": "jCNvg2p75NN8",
        "colab_type": "code",
        "colab": {}
      },
      "source": [
        "library(ggplot2)\n",
        "theme_set(theme_bw())  # selects a black and white theme"
      ],
      "execution_count": null,
      "outputs": []
    },
    {
      "cell_type": "markdown",
      "metadata": {
        "id": "y0TA8nMAPFmz",
        "colab_type": "text"
      },
      "source": [
        "**[Section 3.3 (Aesthetic mappings)](https://r4ds.had.co.nz/data-visualisation.html#aesthetic-mappings)**"
      ]
    },
    {
      "cell_type": "markdown",
      "metadata": {
        "id": "DlfWyHs5PLHq",
        "colab_type": "text"
      },
      "source": [
        "\"You can convey information about your data by mapping the aesthetics in your plot to the variables in your dataset. For example, you can map the colors of your points to the class variable to reveal the class of each car.\""
      ]
    },
    {
      "cell_type": "code",
      "metadata": {
        "id": "b1TM0beRPN_5",
        "colab_type": "code",
        "colab": {}
      },
      "source": [
        "ggplot(data = mpg) + \n",
        "  geom_point(mapping = aes(x = displ, y = hwy, color = class))"
      ],
      "execution_count": null,
      "outputs": []
    },
    {
      "cell_type": "markdown",
      "metadata": {
        "id": "YI5PMAaSPULw",
        "colab_type": "text"
      },
      "source": [
        "\"In the above example, we mapped class to the color aesthetic, but we could have mapped class to the size aesthetic in the same way. In this case, the exact size of each point would reveal its class affiliation. We get a warning here, because mapping an unordered variable (class) to an ordered aesthetic (size) is not a good idea.\""
      ]
    },
    {
      "cell_type": "code",
      "metadata": {
        "id": "i84Ev-stPXgQ",
        "colab_type": "code",
        "colab": {}
      },
      "source": [
        "ggplot(data = mpg) + \n",
        "  geom_point(mapping = aes(x = displ, y = hwy, size = class))"
      ],
      "execution_count": null,
      "outputs": []
    },
    {
      "cell_type": "markdown",
      "metadata": {
        "id": "HW0CAcHyPej4",
        "colab_type": "text"
      },
      "source": [
        "\"Or we could have mapped class to the alpha aesthetic, which controls the transparency of the points, or to the shape aesthetic, which controls the shape of the points.\""
      ]
    },
    {
      "cell_type": "code",
      "metadata": {
        "id": "usZOW-4BPhMY",
        "colab_type": "code",
        "colab": {}
      },
      "source": [
        "ggplot(data = mpg) + \n",
        "  geom_point(mapping = aes(x = displ, y = hwy, alpha = class))"
      ],
      "execution_count": null,
      "outputs": []
    },
    {
      "cell_type": "code",
      "metadata": {
        "id": "iFX6lVBjPld2",
        "colab_type": "code",
        "colab": {}
      },
      "source": [
        "ggplot(data = mpg) + \n",
        "  geom_point(mapping = aes(x = displ, y = hwy, shape = class))"
      ],
      "execution_count": null,
      "outputs": []
    },
    {
      "cell_type": "markdown",
      "metadata": {
        "id": "fstONtKKPrqO",
        "colab_type": "text"
      },
      "source": [
        "\"You can also set the aesthetic properties of your geom manually. For example, we can make all of the points in our plot blue:\""
      ]
    },
    {
      "cell_type": "code",
      "metadata": {
        "id": "7ckxeNjEPt5v",
        "colab_type": "code",
        "colab": {}
      },
      "source": [
        "ggplot(data = mpg) + \n",
        "  geom_point(mapping = aes(x = displ, y = hwy), color = \"blue\")"
      ],
      "execution_count": null,
      "outputs": []
    },
    {
      "cell_type": "markdown",
      "metadata": {
        "id": "jg4jk1rh6AEv",
        "colab_type": "text"
      },
      "source": [
        "## Charts from Vega-Lite Examples\n",
        "\n",
        "Now, we're going to grab the gapminder data from Vega datasets and do the same charts that we did in the Vega-Lite tutorial.\n",
        "\n",
        "First, we need to load a library that can read in JSON and then read in the data file."
      ]
    },
    {
      "cell_type": "code",
      "metadata": {
        "id": "DLzzaPDR6QbL",
        "colab_type": "code",
        "colab": {}
      },
      "source": [
        "library(jsonlite)"
      ],
      "execution_count": null,
      "outputs": []
    },
    {
      "cell_type": "code",
      "metadata": {
        "id": "wPh3EnWT6Tls",
        "colab_type": "code",
        "colab": {}
      },
      "source": [
        "gapminder <- fromJSON(txt='https://raw.githubusercontent.com/vega/vega-datasets/master/data/gapminder.json')\n",
        "head(gapminder, 6)"
      ],
      "execution_count": null,
      "outputs": []
    },
    {
      "cell_type": "markdown",
      "metadata": {
        "id": "kr1E0c2T81mp",
        "colab_type": "text"
      },
      "source": [
        "And now we're going to only grab information from 2000."
      ]
    },
    {
      "cell_type": "code",
      "metadata": {
        "id": "Ma9-bQMP86_0",
        "colab_type": "code",
        "colab": {}
      },
      "source": [
        "data2000 <- gapminder[gapminder$year==2000,]\n",
        "head(data2000,6)"
      ],
      "execution_count": null,
      "outputs": []
    },
    {
      "cell_type": "markdown",
      "metadata": {
        "id": "YtITADFv7gAs",
        "colab_type": "text"
      },
      "source": [
        "**Using X and Y encoding channels**\n",
        "\n",
        "This also shows a different way to specify the dataset and aesthetic.  Note that we don't have to include `data=` or `mapping=` and we can put the `aes()` function in `ggplot()` instead of the mark funtion.\n",
        "\n",
        "To make this look like the Vega-Lite chart, we're also making some adjustments:\n",
        "* changing the color of all shapes (not based on data), the shape, and the width of the line.\n",
        "  * list of available shapes: http://www.sthda.com/english/wiki/ggplot2-point-shapes\n",
        "* set the range of the x-axis\n",
        "* set the range and the interval for the tick marks on the y-axis"
      ]
    },
    {
      "cell_type": "code",
      "metadata": {
        "id": "ZYKJwBdr7mCi",
        "colab_type": "code",
        "colab": {}
      },
      "source": [
        "ggplot(data2000, aes(x = fertility, y = life_expect)) + \n",
        "  geom_point(color=\"steelblue\", shape=1, stroke=0.75) +\n",
        "  xlim(0,8) + \n",
        "  scale_y_continuous(limits=c(0,90), breaks = seq(0, 90, by = 10))"
      ],
      "execution_count": null,
      "outputs": []
    },
    {
      "cell_type": "markdown",
      "metadata": {
        "id": "t24w7RJv_1pf",
        "colab_type": "text"
      },
      "source": [
        "**Size**"
      ]
    },
    {
      "cell_type": "markdown",
      "metadata": {
        "id": "QlZLs2J1ABRI",
        "colab_type": "text"
      },
      "source": [
        "To add size, we just need to specify it in the `aes()` function."
      ]
    },
    {
      "cell_type": "code",
      "metadata": {
        "id": "NP75wy9Q_2-N",
        "colab_type": "code",
        "colab": {}
      },
      "source": [
        "ggplot(data2000, aes(x = fertility, y = life_expect, size=pop)) + \n",
        "  geom_point(color=\"steelblue\", stroke=0.75, shape=1) +\n",
        "  xlim(0,8) + \n",
        "  scale_y_continuous(limits=c(0,90), breaks = seq(0, 90, by = 10))"
      ],
      "execution_count": null,
      "outputs": []
    },
    {
      "cell_type": "markdown",
      "metadata": {
        "id": "0fm-qpfjVrwA",
        "colab_type": "text"
      },
      "source": [
        "**Color**\n",
        "\n",
        "To color the points by cluster, we need to use the `factor()` function to represent the integer column as categorical."
      ]
    },
    {
      "cell_type": "code",
      "metadata": {
        "id": "FeMyvoAdVuGQ",
        "colab_type": "code",
        "colab": {}
      },
      "source": [
        "ggplot(data2000, aes(x = fertility, y = life_expect, size=pop, color=factor(cluster))) + \n",
        "  geom_point(stroke=0.75, shape=1) +\n",
        "  xlim(0,8) + \n",
        "  scale_y_continuous(limits=c(0,90), breaks = seq(0, 90, by = 10))"
      ],
      "execution_count": null,
      "outputs": []
    },
    {
      "cell_type": "markdown",
      "metadata": {
        "id": "4mAS_P5MSBrr",
        "colab_type": "text"
      },
      "source": [
        "**Bar chart**"
      ]
    },
    {
      "cell_type": "code",
      "metadata": {
        "id": "kZ2u7XCiEvwp",
        "colab_type": "code",
        "colab": {}
      },
      "source": [
        "# If you want to not use scientific notation, uncomment next line\n",
        "#options(scipen=999) \n",
        "\n",
        "ggplot(data2000, aes(x=country, y=pop)) +\n",
        "  geom_col(fill=\"steelblue\")"
      ],
      "execution_count": null,
      "outputs": []
    },
    {
      "cell_type": "markdown",
      "metadata": {
        "id": "feprtSMAG8CH",
        "colab_type": "text"
      },
      "source": [
        "We can also change the plot size so that it's wider and turn the xlabels sideways."
      ]
    },
    {
      "cell_type": "code",
      "metadata": {
        "id": "1jVDtAwxG-3I",
        "colab_type": "code",
        "colab": {}
      },
      "source": [
        "options(repr.plot.width=12)  # this is a global option and will change all plots\n",
        "ggplot(data2000, aes(x=country, y=pop)) +\n",
        "  geom_col(fill=\"steelblue\") + \n",
        "  theme(axis.text.x=element_text(angle=90, hjust=1))"
      ],
      "execution_count": null,
      "outputs": []
    },
    {
      "cell_type": "markdown",
      "metadata": {
        "id": "B67NQrvxV1t_",
        "colab_type": "text"
      },
      "source": [
        "**Q1:** *Adjust the width of the bars*\n",
        "\n",
        "**Create a new cell and enter the code below.**"
      ]
    },
    {
      "cell_type": "markdown",
      "metadata": {
        "id": "5w0THti1Iirz",
        "colab_type": "text"
      },
      "source": [
        "**Horizontal Bar Chart**"
      ]
    },
    {
      "cell_type": "code",
      "metadata": {
        "id": "u5pnpY42SKri",
        "colab_type": "code",
        "colab": {}
      },
      "source": [
        "options(repr.plot.width=8)  # set width back to normal\n",
        "ggplot(data2000, aes(y=country, x=pop)) +\n",
        "  geom_col(fill=\"steelblue\")"
      ],
      "execution_count": null,
      "outputs": []
    },
    {
      "cell_type": "markdown",
      "metadata": {
        "id": "DF_VkN0NS75L",
        "colab_type": "text"
      },
      "source": [
        "In addition to `geom_col()`, can also use `geom_bar(stat=\"identity\")`"
      ]
    },
    {
      "cell_type": "code",
      "metadata": {
        "id": "4yIBY2uhSiwm",
        "colab_type": "code",
        "colab": {}
      },
      "source": [
        "ggplot(data2000, aes(y=country, x=pop)) +\n",
        "  geom_bar(fill=\"steelblue\", stat=\"identity\") "
      ],
      "execution_count": null,
      "outputs": []
    },
    {
      "cell_type": "markdown",
      "metadata": {
        "id": "QvwPKZX-TRMH",
        "colab_type": "text"
      },
      "source": [
        "**Line chart**\n",
        "\n",
        "We'll set the `show.legend` option to `FALSE` to prevent the legend from showing."
      ]
    },
    {
      "cell_type": "code",
      "metadata": {
        "id": "Bw-PKR4wJBmJ",
        "colab_type": "code",
        "colab": {}
      },
      "source": [
        "options(repr.plot.width=15) # make the chart wide\n",
        "ggplot(gapminder, aes(x=year, y=fertility, color=country)) + \n",
        "  geom_line(show.legend=FALSE) "
      ],
      "execution_count": null,
      "outputs": []
    },
    {
      "cell_type": "markdown",
      "metadata": {
        "id": "F3psLqf2V9yg",
        "colab_type": "text"
      },
      "source": [
        "**Q2:** *Make the lines wider -- see the `geom_path()` reference.*\n",
        "\n",
        "**Create a new cell and enter the code below.**"
      ]
    },
    {
      "cell_type": "markdown",
      "metadata": {
        "id": "yloj-gS2WAgD",
        "colab_type": "text"
      },
      "source": [
        "**Q3:** *Show only the lines from North America and include the legend.*\n",
        "\n",
        "**Create a new cell and enter the code below.**"
      ]
    }
  ]
}